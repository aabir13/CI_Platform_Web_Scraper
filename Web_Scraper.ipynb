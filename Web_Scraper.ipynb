{
  "nbformat": 4,
  "nbformat_minor": 0,
  "metadata": {
    "colab": {
      "name": "Web Scraper.ipynb",
      "provenance": [],
      "collapsed_sections": [],
      "include_colab_link": true
    },
    "kernelspec": {
      "name": "python3",
      "display_name": "Python 3"
    },
    "language_info": {
      "name": "python"
    }
  },
  "cells": [
    {
      "cell_type": "markdown",
      "metadata": {
        "id": "view-in-github",
        "colab_type": "text"
      },
      "source": [
        "<a href=\"https://colab.research.google.com/github/aabir13/CI_Platform_Web_Scraper/blob/main/Web_Scraper.ipynb\" target=\"_parent\"><img src=\"https://colab.research.google.com/assets/colab-badge.svg\" alt=\"Open In Colab\"/></a>"
      ]
    },
    {
      "cell_type": "markdown",
      "source": [
        "# **Web Scraper**\n",
        "\n",
        "To scrape all the necessary content about Tata Steel from Money Control website!\n",
        "\n",
        "---"
      ],
      "metadata": {
        "id": "CmRL8MziNOP9"
      }
    },
    {
      "cell_type": "markdown",
      "source": [
        "### Peers\n",
        "Based on 13 criterion we extract the Top Peer competitors of Iron and Steel!\n",
        "\n",
        "---"
      ],
      "metadata": {
        "id": "dPR_IFHu8tVY"
      }
    },
    {
      "cell_type": "code",
      "source": [
        "!pip3 install html-table-parser-python3"
      ],
      "metadata": {
        "colab": {
          "base_uri": "https://localhost:8080/"
        },
        "id": "ZqHCC299BCRg",
        "outputId": "e7ad6718-9ea4-46f0-c0d2-4d35bb7fc033"
      },
      "execution_count": null,
      "outputs": [
        {
          "output_type": "stream",
          "name": "stdout",
          "text": [
            "Collecting html-table-parser-python3\n",
            "  Downloading html_table_parser_python3-0.2.0-py3-none-any.whl (15 kB)\n",
            "Installing collected packages: html-table-parser-python3\n",
            "Successfully installed html-table-parser-python3-0.2.0\n"
          ]
        }
      ]
    },
    {
      "cell_type": "code",
      "source": [
        "# Importing necessary libraries\n",
        "import urllib.request\n",
        "from html_table_parser.parser import HTMLTableParser\n",
        "import pandas as pd"
      ],
      "metadata": {
        "id": "10D1hlKrNeF2"
      },
      "execution_count": null,
      "outputs": []
    },
    {
      "cell_type": "code",
      "source": [
        "# To read the binary contents of the html body\n",
        "def url_get_contents(url):\n",
        "  req = urllib.request.Request(url=url)\n",
        "  f = urllib.request.urlopen(req)\n",
        "  return f.read()"
      ],
      "metadata": {
        "id": "nK4LXciwA1U6"
      },
      "execution_count": null,
      "outputs": []
    },
    {
      "cell_type": "code",
      "source": [
        "# Net Sales as per the latest Profit & Loss Account available: df1\n",
        "def Net_Sales():\n",
        "  xhtml = url_get_contents('https://www.moneycontrol.com/stocks/marketinfo/netsales/bse/iron-steel.html').decode('utf-8')\n",
        "  # html parser object\n",
        "  p = HTMLTableParser()\n",
        "  p.feed(xhtml)\n",
        "  # Obtaining the data from the required table into the dataframe\n",
        "  df1 = pd.DataFrame(p.tables[2])\n",
        "  df1 = df1.replace({\"Add to Watchlist\": \"\"}, regex=True)\n",
        "  df1 = df1.replace({\"Add to Portfolio\": \"\"}, regex=True)\n",
        "  # Obtaining the csv file\n",
        "  df1.to_csv('Net_Sales_Iron_and_Steel.csv')"
      ],
      "metadata": {
        "id": "Uh2gjKtnB6D3"
      },
      "execution_count": null,
      "outputs": []
    },
    {
      "cell_type": "code",
      "source": [
        "# Net Profit as per the latest Profit & Loss Account available: df2\n",
        "def Net_Profit():\n",
        "  xhtml = url_get_contents('https://www.moneycontrol.com/stocks/marketinfo/netprofit/bse/iron-steel.html').decode('utf-8')\n",
        "  # html parser object\n",
        "  p = HTMLTableParser()\n",
        "  p.feed(xhtml)\n",
        "  # Obtaining the data from the required table into the dataframe\n",
        "  df2 = pd.DataFrame(p.tables[2])\n",
        "  df2 = df2.replace({\"Add to Watchlist\": \"\"}, regex=True)\n",
        "  df2 = df2.replace({\"Add to Portfolio\": \"\"}, regex=True)\n",
        "  # Obtaining the csv file\n",
        "  df2.to_csv('Net_Profit_Iron_and_Steel.csv')"
      ],
      "metadata": {
        "id": "a1ah8tCwFsR5"
      },
      "execution_count": null,
      "outputs": []
    },
    {
      "cell_type": "code",
      "source": [
        "# Market capitalisation: df3\n",
        "def Market_Capitalization():\n",
        "  xhtml = url_get_contents('https://www.moneycontrol.com/stocks/marketinfo/marketcap/bse/iron-steel.html').decode('utf-8')\n",
        "  # html parser object\n",
        "  p = HTMLTableParser()\n",
        "  p.feed(xhtml)\n",
        "  # Obtaining the data from the required table into the dataframe\n",
        "  print('Iron & Steel')\n",
        "  print('Market capitalisation as per the latest Profit & Loss Account available')\n",
        "  df3 = pd.DataFrame(p.tables[1])\n",
        "  df3 = df3.replace({\"Add to Watchlist\": \"\"}, regex=True)\n",
        "  df3 = df3.replace({\"Add to Portfolio\": \"\"}, regex=True)\n",
        "  # Obtaining the csv file\n",
        "  df3.to_csv('Market_Capitalisation_Iron_and_Steel.csv')"
      ],
      "metadata": {
        "id": "itfgDuhrnG6a"
      },
      "execution_count": null,
      "outputs": []
    },
    {
      "cell_type": "code",
      "source": [
        "# Total Assets as per the latest Balance Sheet available: df4\n",
        "def Total_Assets():\n",
        "  xhtml=url_get_contents('https://www.moneycontrol.com/stocks/marketinfo/totassets/bse/iron-steel.html').decode('utf-8')\n",
        "  #HTML parser object\n",
        "  p=HTMLTableParser()\n",
        "  p.feed(xhtml)\n",
        "  # Obtaining the data from the required table into a dataframe\n",
        "  df4 = pd.DataFrame(p.tables[2])\n",
        "  df4 = df4.replace({\"Add to Watchlist\": \"\"}, regex=True)\n",
        "  df4 = df4.replace({\"Add to Portfolio\": \"\"}, regex=True)\n",
        "  #Obtaining the csv file\n",
        "  df4.to_csv('Total_Assest_Iron_and_Steel.csv')"
      ],
      "metadata": {
        "id": "jtyjwD6dOT3Y"
      },
      "execution_count": null,
      "outputs": []
    },
    {
      "cell_type": "code",
      "source": [
        "# Other Income as per the latest Profit & Loss Account available: df5\n",
        "def Other_Income():\n",
        "  xhtml=url_get_contents('https://www.moneycontrol.com/stocks/marketinfo/othinc/bse/iron-steel.html').decode('utf-8')\n",
        "  # HTML parser object\n",
        "  p=HTMLTableParser()\n",
        "  p.feed(xhtml)\n",
        "  # Obtaining the data from required table into the dataframe\n",
        "  df5=pd.DataFrame(p.tables[2])\n",
        "  df5=df5.replace({\"Add to Watchlist\":\"\"}, regex=True)\n",
        "  df5=df5.replace({\"Add to Portfolio\":\"\"}, regex=True)\n",
        "  # Obtaining csv\n",
        "  df5.to_csv('Other_Income_Iron_and_Steel.csv')"
      ],
      "metadata": {
        "id": "ivv84i-7PzHf"
      },
      "execution_count": null,
      "outputs": []
    },
    {
      "cell_type": "code",
      "source": [
        "# Interest as per the latest Profit & Loss Account available: df6\n",
        "def Interest():\n",
        "  xhtml = url_get_contents('https://www.moneycontrol.com/stocks/marketinfo/interest/bse/iron-steel.html').decode('utf-8')\n",
        "  # HTML parser object\n",
        "  p = HTMLTableParser()\n",
        "  p.feed(xhtml)\n",
        "  # Obtaining the data from required table into the dataframe\n",
        "  df6=pd.DataFrame(p.tables[2])\n",
        "  df6=df6.replace({\"Add to Watchlist\":\"\"}, regex = True)\n",
        "  df6=df6.replace({\"Add to Portfolio\":\"\"}, regex = True)\n",
        "  # Obtaining csv \n",
        "  df6.to_csv('Interest_Iron_and_Steel.csv') "
      ],
      "metadata": {
        "id": "Wn0TN1fBSN0I"
      },
      "execution_count": null,
      "outputs": []
    },
    {
      "cell_type": "code",
      "source": [
        "# Tax as per the latest Profit & Loss Account available: df7\n",
        "def Tax():\n",
        "  xhtml = url_get_contents('https://www.moneycontrol.com/stocks/marketinfo/tax/bse/iron-steel.html').decode('utf-8')\n",
        "  # HTML parser object\n",
        "  p = HTMLTableParser()\n",
        "  p.feed(xhtml)\n",
        "  # Obtaining the data from required table into the dataframe\n",
        "  df7=pd.DataFrame(p.tables[2])\n",
        "  df7=df7.replace({\"Add to Watchlist\":\"\"}, regex = True)\n",
        "  df7=df7.replace({\"Add to Portfolio\":\"\"}, regex = True)\n",
        "  # Obtaining csv\n",
        "  df7.to_csv('Tax_Iron_and_Steel.csv')"
      ],
      "metadata": {
        "id": "a7ocCpkSTtV9"
      },
      "execution_count": null,
      "outputs": []
    },
    {
      "cell_type": "code",
      "source": [
        "# Trailing Twelve Months EPS: df8\n",
        "def Trailing_Twelve_Months_EPS():\n",
        "  xhtml = url_get_contents('https://www.moneycontrol.com/stocks/marketinfo/eps/bse/iron-steel.html').decode('utf-8')\n",
        "  # HTML parser object\n",
        "  p = HTMLTableParser()\n",
        "  p.feed(xhtml)\n",
        "  # Obtaining the data from required table into the dataframe\n",
        "  df8=pd.DataFrame(p.tables[2])\n",
        "  df8=df8.replace({\"Add to Watchlist\":\"\"}, regex = True)\n",
        "  df8=df8.replace({\"Add to Portfolio\":\"\"}, regex = True)\n",
        "  # Obtaining csv\n",
        "  df8.to_csv('EPS_Iron_and_Steel.csv')"
      ],
      "metadata": {
        "id": "FECHy17iUaID"
      },
      "execution_count": null,
      "outputs": []
    },
    {
      "cell_type": "code",
      "source": [
        "# Sundry Debtors/Current Assets figures as per the latest Balance Sheet available: df9\n",
        "def Sundry_Debtors():\n",
        "  xhtml = url_get_contents('https://www.moneycontrol.com/stocks/marketinfo/sdrs/bse/iron-steel.html').decode('utf-8')\n",
        "  # HTML parser object\n",
        "  p = HTMLTableParser()\n",
        "  p.feed(xhtml)\n",
        "  # Obtaining the data from required table into the dataframe\n",
        "  df9=pd.DataFrame(p.tables[2])\n",
        "  df9=df9.replace({\"Add to Watchlist\":\"\"}, regex = True)\n",
        "  df9=df9.replace({\"Add to Portfolio\":\"\"}, regex = True)\n",
        "  # Obtaining csv\n",
        "  df9.to_csv('Sundry Debtors_Iron_and_Steel.csv') "
      ],
      "metadata": {
        "id": "5G-zdoyWU6Lg"
      },
      "execution_count": null,
      "outputs": []
    },
    {
      "cell_type": "code",
      "source": [
        "# Cash & Bank Balances/Total Liabilities figures as per the latest Balance Sheet available: df10\n",
        "def Cash_and_Bank_Balances():\n",
        "  xhtml = url_get_contents('https://www.moneycontrol.com/stocks/marketinfo/cashbank/bse/iron-steel.html').decode('utf-8')\n",
        "  # HTML parser object\n",
        "  p = HTMLTableParser()\n",
        "  p.feed(xhtml)\n",
        "  # Obtaining the data from required table into the dataframe\n",
        "  df10=pd.DataFrame(p.tables[2])\n",
        "  df10=df10.replace({\"Add to Watchlist\":\"\"}, regex = True)\n",
        "  df10=df10.replace({\"Add to Portfolio\":\"\"}, regex = True)\n",
        "  # Obtaining csv\n",
        "  df10.to_csv('Cash_&_Bank_Balances_Iron_and_Steel.csv')    "
      ],
      "metadata": {
        "id": "fIf_GjPNVgUd"
      },
      "execution_count": null,
      "outputs": []
    },
    {
      "cell_type": "code",
      "source": [
        "# Inventory/Current Assets figures as per the latest Balance Sheet available: df11\n",
        "def Current_Assets():\n",
        "  xhtml = url_get_contents('https://www.moneycontrol.com/stocks/marketinfo/inventory/bse/iron-steel.html').decode('utf-8')\n",
        "  #HTML parser object\n",
        "  p = HTMLTableParser()\n",
        "  p.feed(xhtml)\n",
        "  # Obtaining the data from required table into the dataframe\n",
        "  df11=pd.DataFrame(p.tables[2])\n",
        "  df11=df11.replace({\"Add to Watchlist\":\"\"}, regex = True)\n",
        "  df11=df11.replace({\"Add to Portfolio\":\"\"}, regex = True) \n",
        "  # Obtaining csv\n",
        "  df11.to_csv('Inventory_Iron_and_Steel.csv')    "
      ],
      "metadata": {
        "id": "7TBIS6BpXaGT"
      },
      "execution_count": null,
      "outputs": []
    },
    {
      "cell_type": "code",
      "source": [
        "# Debt/Liability figures as per the latest Balance Sheet available: df12\n",
        "def Debt():\n",
        "  xhtml = url_get_contents('https://www.moneycontrol.com/stocks/marketinfo/debt/bse/iron-steel.html').decode('utf-8')\n",
        "  # HTML parser object\n",
        "  p = HTMLTableParser()\n",
        "  p.feed(xhtml)\n",
        "  # Obtaining the data from required table into the dataframe\n",
        "  df12=pd.DataFrame(p.tables[2])\n",
        "  df12=df12.replace({\"Add to Watchlist\":\"\"}, regex = True)\n",
        "  df12=df12.replace({\"Add to Portfolio\":\"\"}, regex = True) \n",
        "  # Obtaining csv\n",
        "  df12.to_csv('Debt_Iron_and_Steel.csv')    "
      ],
      "metadata": {
        "id": "uSCDR3obYAtv"
      },
      "execution_count": null,
      "outputs": []
    },
    {
      "cell_type": "code",
      "source": [
        "# Contingent Liabilities/Networth figures as per the latest Balance Sheet available: df13\n",
        "def Contingent_Liabilities():\n",
        "  xhtml = url_get_contents('https://www.moneycontrol.com/stocks/marketinfo/contliab/bse/iron-steel.html').decode('utf-8')\n",
        "  #HTML parser object\n",
        "  p = HTMLTableParser()\n",
        "  p.feed(xhtml)\n",
        "  # Obtaining the data from required table into the dataframe\n",
        "  df13=pd.DataFrame(p.tables[2])\n",
        "  df13=df13.replace({\"Add to Watchlist\":\"\"}, regex = True)\n",
        "  df13=df13.replace({\"Add to Portfolio\":\"\"}, regex = True) \n",
        "  # Obtaining csv\n",
        "  df13.to_csv('Contingent_Liabilities_Iron_and_Steel.csv')    "
      ],
      "metadata": {
        "id": "41unwr8MYkUG"
      },
      "execution_count": null,
      "outputs": []
    },
    {
      "cell_type": "code",
      "source": [
        "# Driver Function\n",
        "print('Category: IRON AND STEEL')\n",
        "print('Select the criteria in which you want to categorize the companies:')\n",
        "print('1: Net Sales')\n",
        "print('2: Net Profit')\n",
        "print('3: Market Capitalization')\n",
        "print('4: Total Assets')\n",
        "print('5: Other Income')\n",
        "print('6: Interest')\n",
        "print('7: Tax')\n",
        "print('8: EPS')\n",
        "print('9: Sundry Debtors/Current Assets')\n",
        "print('10: Cash & Bank Balances/Total Liabilities')\n",
        "print('11: Inventory/Current Assets')\n",
        "print('12: Debt/Liability')\n",
        "print('13: Contingent Liabilities/Networth')\n",
        "n = int(input('Enter your choice!'))\n",
        "if n==1:\n",
        "  Net_Sales()\n",
        "elif n==2:\n",
        "  Net_Profit()\n",
        "elif n==3:\n",
        "  Market_Capitalization()\n",
        "elif n==4:\n",
        "  Total_Assets()\n",
        "elif n==5:\n",
        "  Other_Income()\n",
        "elif n==6:\n",
        "  Interest()\n",
        "elif n==7:\n",
        "  Tax()\n",
        "elif n==8:\n",
        "  Trailing_Twelve_Months_EPS()\n",
        "elif n==9:\n",
        "  Sundry_Debtors()\n",
        "elif n==10:\n",
        "  Cash_and_Bank_Balances()\n",
        "elif n==11:\n",
        "  Current_Assets()\n",
        "elif n==12:\n",
        "  Debt()\n",
        "elif n==13:\n",
        "  Contingent_Liabilities()\n",
        "else:\n",
        "  print('Sorry! Wrong choice of category!')"
      ],
      "metadata": {
        "id": "a77squY-YwH8",
        "colab": {
          "base_uri": "https://localhost:8080/"
        },
        "outputId": "1828f65c-a9e9-419b-e12d-394a263dc6fa"
      },
      "execution_count": null,
      "outputs": [
        {
          "name": "stdout",
          "output_type": "stream",
          "text": [
            "Category: IRON AND STEEL\n",
            "Select the criteria in which you want to categorize the companies:\n",
            "1: Net Sales\n",
            "2: Net Profit\n",
            "3: Market Capitalization\n",
            "4: Total Assets\n",
            "5: Other Income\n",
            "6: Interest\n",
            "7: Tax\n",
            "8: EPS\n",
            "9: Sundry Debtors/Current Assets\n",
            "10: Cash & Bank Balances/Total Liabilities\n",
            "11: Inventory/Current Assets\n",
            "12: Debt/Liability\n",
            "13: Contingent Liabilities/Networth\n",
            "Enter your choice!6\n"
          ]
        }
      ]
    },
    {
      "cell_type": "markdown",
      "source": [
        "### News\n",
        "\n",
        "We tend to extract all the latest top news about the company!\n",
        "\n",
        "---"
      ],
      "metadata": {
        "id": "FOxiUTGn5Aox"
      }
    },
    {
      "cell_type": "code",
      "source": [
        "!pip install feedsearch"
      ],
      "metadata": {
        "colab": {
          "base_uri": "https://localhost:8080/"
        },
        "id": "NFNIub0PLxet",
        "outputId": "780d28d0-b244-4238-e640-2369dba7bb74"
      },
      "execution_count": null,
      "outputs": [
        {
          "output_type": "stream",
          "name": "stdout",
          "text": [
            "Looking in indexes: https://pypi.org/simple, https://us-python.pkg.dev/colab-wheels/public/simple/\n",
            "Collecting feedsearch\n",
            "  Downloading feedsearch-1.0.12-py35.py36.py37-none-any.whl (18 kB)\n",
            "Requirement already satisfied: feedparser in /usr/local/lib/python3.7/dist-packages (from feedsearch) (5.2.1)\n",
            "Requirement already satisfied: requests in /usr/local/lib/python3.7/dist-packages (from feedsearch) (2.27.1)\n",
            "Requirement already satisfied: beautifulsoup4 in /usr/local/lib/python3.7/dist-packages (from feedsearch) (4.11.1)\n",
            "Requirement already satisfied: click in /usr/local/lib/python3.7/dist-packages (from feedsearch) (7.1.2)\n",
            "Requirement already satisfied: Werkzeug in /usr/local/lib/python3.7/dist-packages (from feedsearch) (1.0.1)\n",
            "Requirement already satisfied: soupsieve>1.2 in /usr/local/lib/python3.7/dist-packages (from beautifulsoup4->feedsearch) (2.3.2.post1)\n",
            "Requirement already satisfied: idna<4,>=2.5 in /usr/local/lib/python3.7/dist-packages (from requests->feedsearch) (2.10)\n",
            "Requirement already satisfied: certifi>=2017.4.17 in /usr/local/lib/python3.7/dist-packages (from requests->feedsearch) (2022.5.18.1)\n",
            "Requirement already satisfied: charset-normalizer~=2.0.0 in /usr/local/lib/python3.7/dist-packages (from requests->feedsearch) (2.0.12)\n",
            "Requirement already satisfied: urllib3<1.27,>=1.21.1 in /usr/local/lib/python3.7/dist-packages (from requests->feedsearch) (1.24.3)\n",
            "Installing collected packages: feedsearch\n",
            "Successfully installed feedsearch-1.0.12\n"
          ]
        }
      ]
    },
    {
      "cell_type": "code",
      "source": [
        "from feedsearch import search\n",
        "feeds = search('https://www.moneycontrol.com/company-article/tatasteel/news/TIS')\n",
        "urls = [f.url for f in feeds]\n",
        "\n",
        "print(urls)\n",
        "\n",
        "import feedparser\n",
        "import time\n",
        "if len(urls) > 0:\n",
        "  news_feed = feedparser.parse(urls[0])\n",
        "  entries = news_feed[\"entries\"]\n",
        "  count=0\n",
        "  for entry in entries:\n",
        "    count = count + 1\n",
        "    print(\n",
        "     str(count) + \". \" + entry[\"title\"] \\\n",
        "     + \"\\n\\t\\t\" + entry[\"published\"] \\\n",
        "     + \"\\n\\t\\t\" + entry[\"link\"]\\\n",
        "     + \"\\n\\n\"\n",
        "     )\n",
        "    time.sleep(1)"
      ],
      "metadata": {
        "colab": {
          "base_uri": "https://localhost:8080/"
        },
        "id": "nASZl8oC5UuS",
        "outputId": "dbaeb8e6-2896-40ac-f384-18644d7be29b"
      },
      "execution_count": null,
      "outputs": [
        {
          "output_type": "stream",
          "name": "stdout",
          "text": [
            "['https://www.moneycontrol.com/rss/latestnews.xml']\n",
            "1. WeWork India opens 2 co-working centres in Pune, Bengaluru with 2,000 desks\n",
            "\t\tTue, 24 May 2022 18:05:53 +0530\n",
            "\t\thttps://www.moneycontrol.com/news/business/wework-india-opens-2-co-working-centrespune-bengaluru2000-desks_16422421.html\n",
            "\n",
            "\n",
            "2. Subscribe to Aether Industries: Hem Securities\n",
            "\t\tTue, 24 May 2022 17:49:43 +0530\n",
            "\t\thttps://www.moneycontrol.com/news/ipo-issues-open/subscribe-to-aether-industries-hem-securities_16422401.html\n",
            "\n",
            "\n",
            "3. SEBI issues Rs 3.12-crore demand notice to NSE#39;s ex-boss Chitra Ramkrishna\n",
            "\t\tTue, 24 May 2022 17:47:10 +0530\n",
            "\t\thttps://www.moneycontrol.com/news/business/sebi-issues-rs-312-crore-demand-notice-to-nse39s-ex-boss-chitra-ramkrishna_16422381.html\n",
            "\n",
            "\n",
            "4. Technical View | Nifty forms small-bodied bearish candle, needs to hold 16,061 for bounce\n",
            "\t\tTue, 24 May 2022 17:46:56 +0530\n",
            "\t\thttps://www.moneycontrol.com/news/technicals/technical-view-|-nifty-forms-small-bodied-bearish-candle-needs-to-hold-16061-for-bounce_16422361.html\n",
            "\n",
            "\n",
            "5. BSNL to migrate 30,000 wifi hotspots to PM-WANI framework by June: DoT official\n",
            "\t\tTue, 24 May 2022 17:41:15 +0530\n",
            "\t\thttps://www.moneycontrol.com/news/business/bsnl-to-migrate-30000-wifi-hotspots-to-pm-wani-framework-by-june-dot-official_16422341.html\n",
            "\n",
            "\n",
            "6. India considers tax cut on soybean and sunflower oil to cool prices\n",
            "\t\tTue, 24 May 2022 17:34:41 +0530\n",
            "\t\thttps://www.moneycontrol.com/news/business/india-considers-tax-cutsoybeansunflower-oil-to-cool-prices_16422301.html\n",
            "\n",
            "\n",
            "7. Crypto brands continue to limit advertising on digital media amid regulatory uncertainty\n",
            "\t\tTue, 24 May 2022 17:34:33 +0530\n",
            "\t\thttps://www.moneycontrol.com/news/entertainment/crypto-brands-continue-to-limit-advertisingdigital-media-amid-regulatory-uncertainty_16422321.html\n",
            "\n",
            "\n",
            "8. Taking Stock | Market erases early gains to end lower after yet another volatile session\n",
            "\t\tTue, 24 May 2022 17:24:47 +0530\n",
            "\t\thttps://www.moneycontrol.com/news/local-markets/taking-stock-|-market-erases-early-gains-to-end-lower-after-yet-another-volatile-session_16422281.html\n",
            "\n",
            "\n",
            "9. India#39;s crude oil production falls 1% in April\n",
            "\t\tTue, 24 May 2022 17:18:58 +0530\n",
            "\t\thttps://www.moneycontrol.com/news/business/india39s-crude-oil-production-falls-1april_16422261.html\n",
            "\n",
            "\n",
            "10. Govt may restrict sugar exports at 10 MT this year\n",
            "\t\tTue, 24 May 2022 17:17:39 +0530\n",
            "\t\thttps://www.moneycontrol.com/news/business/govt-may-restrict-sugar-exports-at-10-mt-this-year_16422241.html\n",
            "\n",
            "\n",
            "11. Gainers  Losers: 10 stocks that moved the most on May 24\n",
            "\t\tTue, 24 May 2022 17:10:36 +0530\n",
            "\t\thttps://www.moneycontrol.com/news/buzzing-stocks/gainerslosers-10-stocks-that-movedmostmay-24_16422061.html\n",
            "\n",
            "\n",
            "12. Over 1000 homebuyers of a Gurugram project in a fix after authorities cancel builder’s license\n",
            "\t\tTue, 24 May 2022 17:07:12 +0530\n",
            "\t\thttps://www.moneycontrol.com/news/real-estate/over-1000-homebuyersa-gurugram-projecta-fix-after-authorities-cancel-builder’s-license_16421901.html\n",
            "\n",
            "\n",
            "13. Indian Metals Standalone March 2022 Net Sales at Rs 756.71 crore, up 31.35% Y-o-Y\n",
            "\t\tTue, 24 May 2022 17:05:45 +0530\n",
            "\t\thttps://www.moneycontrol.com/news/results/indian-metals-standalone-march-2022-net-sales-at-rs-75671-crore3135-y-o-y_16422181.html\n",
            "\n",
            "\n",
            "14. Ajcon Global Standalone March 2022 Net Sales at Rs 21.59 crore, up 224.99% Y-o-Y\n",
            "\t\tTue, 24 May 2022 17:05:41 +0530\n",
            "\t\thttps://www.moneycontrol.com/news/results/ajcon-global-standalone-march-2022-net-sales-at-rs-2159-crore22499-y-o-y_16422201.html\n",
            "\n",
            "\n",
            "15. Uday Jewellery Standalone March 2022 Net Sales at Rs 35.19 crore, down 8.42% Y-o-Y\n",
            "\t\tTue, 24 May 2022 17:05:34 +0530\n",
            "\t\thttps://www.moneycontrol.com/news/results/uday-jewellery-standalone-march-2022-net-sales-at-rs-3519-crore-down-842-y-o-y_16422221.html\n",
            "\n",
            "\n"
          ]
        }
      ]
    },
    {
      "cell_type": "code",
      "source": [
        "!pip install newscatcher"
      ],
      "metadata": {
        "colab": {
          "base_uri": "https://localhost:8080/"
        },
        "id": "wgOX-gzQGrbj",
        "outputId": "9182814c-cc45-486b-e72f-c138d14914e1"
      },
      "execution_count": null,
      "outputs": [
        {
          "output_type": "stream",
          "name": "stdout",
          "text": [
            "Looking in indexes: https://pypi.org/simple, https://us-python.pkg.dev/colab-wheels/public/simple/\n",
            "Collecting newscatcher\n",
            "  Downloading newscatcher-0.2.0-py3-none-any.whl (138 kB)\n",
            "\u001b[K     |████████████████████████████████| 138 kB 5.2 MB/s \n",
            "\u001b[?25hRequirement already satisfied: feedparser<6.0.0,>=5.2.1 in /usr/local/lib/python3.7/dist-packages (from newscatcher) (5.2.1)\n",
            "Requirement already satisfied: requests<3.0.0,>=2.23.0 in /usr/local/lib/python3.7/dist-packages (from newscatcher) (2.27.1)\n",
            "Collecting tldextract<3.0.0,>=2.2.2\n",
            "  Downloading tldextract-2.2.3-py2.py3-none-any.whl (48 kB)\n",
            "\u001b[K     |████████████████████████████████| 48 kB 5.0 MB/s \n",
            "\u001b[?25hRequirement already satisfied: idna<4,>=2.5 in /usr/local/lib/python3.7/dist-packages (from requests<3.0.0,>=2.23.0->newscatcher) (2.10)\n",
            "Requirement already satisfied: certifi>=2017.4.17 in /usr/local/lib/python3.7/dist-packages (from requests<3.0.0,>=2.23.0->newscatcher) (2022.5.18.1)\n",
            "Requirement already satisfied: charset-normalizer~=2.0.0 in /usr/local/lib/python3.7/dist-packages (from requests<3.0.0,>=2.23.0->newscatcher) (2.0.12)\n",
            "Requirement already satisfied: urllib3<1.27,>=1.21.1 in /usr/local/lib/python3.7/dist-packages (from requests<3.0.0,>=2.23.0->newscatcher) (1.24.3)\n",
            "Collecting requests-file>=1.4\n",
            "  Downloading requests_file-1.5.1-py2.py3-none-any.whl (3.7 kB)\n",
            "Requirement already satisfied: six in /usr/local/lib/python3.7/dist-packages (from requests-file>=1.4->tldextract<3.0.0,>=2.2.2->newscatcher) (1.15.0)\n",
            "Installing collected packages: requests-file, tldextract, newscatcher\n",
            "Successfully installed newscatcher-0.2.0 requests-file-1.5.1 tldextract-2.2.3\n"
          ]
        }
      ]
    },
    {
      "cell_type": "code",
      "source": [
        "from newscatcher import Newscatcher, describe_url\n",
        "import json\n",
        "import time\n",
        "\n",
        "nyt = Newscatcher(website = 'https://www.moneycontrol.com/india/stockpricequote/ironsteel/tatasteel/TIS')\n",
        "results = nyt.get_news()\n",
        "\n",
        "count = 0\n",
        "articles = results['articles']\n",
        "for article in articles[:10]:   \n",
        "   count+=1\n",
        "   print(\n",
        "     str(count) + \". \" + article[\"title\"] \\\n",
        "     + \"\\n\\t\\t\" + article[\"published\"] \\\n",
        "     + \"\\n\\t\\t\" + article[\"link\"]\\\n",
        "     + \"\\n\\n\"\n",
        "     )\n",
        "   time.sleep(0.33)"
      ],
      "metadata": {
        "colab": {
          "base_uri": "https://localhost:8080/"
        },
        "id": "cSFazHpleSFu",
        "outputId": "988d7ee2-8c45-4f85-80e8-c1b1c8a8cc65"
      },
      "execution_count": null,
      "outputs": [
        {
          "output_type": "stream",
          "name": "stdout",
          "text": [
            "1. WeWork India opens 2 co-working centres in Pune, Bengaluru with 2,000 desks\n",
            "\t\tTue, 24 May 2022 18:05:53 +0530\n",
            "\t\thttps://www.moneycontrol.com/news/business/wework-india-opens-2-co-working-centrespune-bengaluru2000-desks_16422421.html\n",
            "\n",
            "\n",
            "2. Subscribe to Aether Industries: Hem Securities\n",
            "\t\tTue, 24 May 2022 17:49:43 +0530\n",
            "\t\thttps://www.moneycontrol.com/news/ipo-issues-open/subscribe-to-aether-industries-hem-securities_16422401.html\n",
            "\n",
            "\n",
            "3. SEBI issues Rs 3.12-crore demand notice to NSE#39;s ex-boss Chitra Ramkrishna\n",
            "\t\tTue, 24 May 2022 17:47:10 +0530\n",
            "\t\thttps://www.moneycontrol.com/news/business/sebi-issues-rs-312-crore-demand-notice-to-nse39s-ex-boss-chitra-ramkrishna_16422381.html\n",
            "\n",
            "\n",
            "4. Technical View | Nifty forms small-bodied bearish candle, needs to hold 16,061 for bounce\n",
            "\t\tTue, 24 May 2022 17:46:56 +0530\n",
            "\t\thttps://www.moneycontrol.com/news/technicals/technical-view-|-nifty-forms-small-bodied-bearish-candle-needs-to-hold-16061-for-bounce_16422361.html\n",
            "\n",
            "\n",
            "5. BSNL to migrate 30,000 wifi hotspots to PM-WANI framework by June: DoT official\n",
            "\t\tTue, 24 May 2022 17:41:15 +0530\n",
            "\t\thttps://www.moneycontrol.com/news/business/bsnl-to-migrate-30000-wifi-hotspots-to-pm-wani-framework-by-june-dot-official_16422341.html\n",
            "\n",
            "\n",
            "6. India considers tax cut on soybean and sunflower oil to cool prices\n",
            "\t\tTue, 24 May 2022 17:34:41 +0530\n",
            "\t\thttps://www.moneycontrol.com/news/business/india-considers-tax-cutsoybeansunflower-oil-to-cool-prices_16422301.html\n",
            "\n",
            "\n",
            "7. Crypto brands continue to limit advertising on digital media amid regulatory uncertainty\n",
            "\t\tTue, 24 May 2022 17:34:33 +0530\n",
            "\t\thttps://www.moneycontrol.com/news/entertainment/crypto-brands-continue-to-limit-advertisingdigital-media-amid-regulatory-uncertainty_16422321.html\n",
            "\n",
            "\n",
            "8. Taking Stock | Market erases early gains to end lower after yet another volatile session\n",
            "\t\tTue, 24 May 2022 17:24:47 +0530\n",
            "\t\thttps://www.moneycontrol.com/news/local-markets/taking-stock-|-market-erases-early-gains-to-end-lower-after-yet-another-volatile-session_16422281.html\n",
            "\n",
            "\n",
            "9. India#39;s crude oil production falls 1% in April\n",
            "\t\tTue, 24 May 2022 17:18:58 +0530\n",
            "\t\thttps://www.moneycontrol.com/news/business/india39s-crude-oil-production-falls-1april_16422261.html\n",
            "\n",
            "\n",
            "10. Govt may restrict sugar exports at 10 MT this year\n",
            "\t\tTue, 24 May 2022 17:17:39 +0530\n",
            "\t\thttps://www.moneycontrol.com/news/business/govt-may-restrict-sugar-exports-at-10-mt-this-year_16422241.html\n",
            "\n",
            "\n"
          ]
        }
      ]
    },
    {
      "cell_type": "code",
      "source": [
        "!pip3 install pygooglenews"
      ],
      "metadata": {
        "colab": {
          "base_uri": "https://localhost:8080/"
        },
        "id": "QrrHaueloRwC",
        "outputId": "ca39425d-8d70-4cb5-b207-97d09c3e5821"
      },
      "execution_count": null,
      "outputs": [
        {
          "output_type": "stream",
          "name": "stdout",
          "text": [
            "Looking in indexes: https://pypi.org/simple, https://us-python.pkg.dev/colab-wheels/public/simple/\n",
            "Requirement already satisfied: pygooglenews in /usr/local/lib/python3.7/dist-packages (0.1.2)\n",
            "Requirement already satisfied: dateparser<0.8.0,>=0.7.6 in /usr/local/lib/python3.7/dist-packages (from pygooglenews) (0.7.6)\n",
            "Requirement already satisfied: beautifulsoup4<5.0.0,>=4.9.1 in /usr/local/lib/python3.7/dist-packages (from pygooglenews) (4.11.1)\n",
            "Requirement already satisfied: feedparser<6.0.0,>=5.2.1 in /usr/local/lib/python3.7/dist-packages (from pygooglenews) (5.2.1)\n",
            "Requirement already satisfied: requests<3.0.0,>=2.24.0 in /usr/local/lib/python3.7/dist-packages (from pygooglenews) (2.27.1)\n",
            "Requirement already satisfied: soupsieve>1.2 in /usr/local/lib/python3.7/dist-packages (from beautifulsoup4<5.0.0,>=4.9.1->pygooglenews) (2.3.2.post1)\n",
            "Requirement already satisfied: regex!=2019.02.19 in /usr/local/lib/python3.7/dist-packages (from dateparser<0.8.0,>=0.7.6->pygooglenews) (2019.12.20)\n",
            "Requirement already satisfied: python-dateutil in /usr/local/lib/python3.7/dist-packages (from dateparser<0.8.0,>=0.7.6->pygooglenews) (2.8.2)\n",
            "Requirement already satisfied: pytz in /usr/local/lib/python3.7/dist-packages (from dateparser<0.8.0,>=0.7.6->pygooglenews) (2022.1)\n",
            "Requirement already satisfied: tzlocal in /usr/local/lib/python3.7/dist-packages (from dateparser<0.8.0,>=0.7.6->pygooglenews) (1.5.1)\n",
            "Requirement already satisfied: certifi>=2017.4.17 in /usr/local/lib/python3.7/dist-packages (from requests<3.0.0,>=2.24.0->pygooglenews) (2022.5.18.1)\n",
            "Requirement already satisfied: charset-normalizer~=2.0.0 in /usr/local/lib/python3.7/dist-packages (from requests<3.0.0,>=2.24.0->pygooglenews) (2.0.12)\n",
            "Requirement already satisfied: idna<4,>=2.5 in /usr/local/lib/python3.7/dist-packages (from requests<3.0.0,>=2.24.0->pygooglenews) (2.10)\n",
            "Requirement already satisfied: urllib3<1.27,>=1.21.1 in /usr/local/lib/python3.7/dist-packages (from requests<3.0.0,>=2.24.0->pygooglenews) (1.24.3)\n",
            "Requirement already satisfied: six>=1.5 in /usr/local/lib/python3.7/dist-packages (from python-dateutil->dateparser<0.8.0,>=0.7.6->pygooglenews) (1.15.0)\n"
          ]
        }
      ]
    },
    {
      "cell_type": "code",
      "source": [
        "from pygooglenews import GoogleNews\n",
        "import json\n",
        "import time\n",
        "\n",
        "gn = GoogleNews()\n",
        "s = gn.search('Tata Steel')\n",
        "\n",
        "entries = s[\"entries\"]\n",
        "count = 0\n",
        "for entry in entries:\n",
        "  count = count + 1\n",
        "  print(\n",
        "    str(count) + \". \" + entry[\"title\"] + entry[\"published\"]\n",
        "  )\n",
        "  time.sleep(0.25)"
      ],
      "metadata": {
        "colab": {
          "base_uri": "https://localhost:8080/"
        },
        "id": "gsOdCaH3o6Nc",
        "outputId": "b56b3dbd-a3b2-4b53-91b1-c549de841253"
      },
      "execution_count": null,
      "outputs": [
        {
          "output_type": "stream",
          "name": "stdout",
          "text": [
            "1. Big Movers on D-St: What should investors do with SAIL, Tata Steel & JSW Steel that hit 52-week lows? - Economic TimesTue, 24 May 2022 02:53:00 GMT\n",
            "2. Why Tata Steel Share Price Is Falling? - NDTV ProfitTue, 24 May 2022 11:01:56 GMT\n",
            "3. Tata Steel should work to reduce annoying odors more and faster - Aviation Analysis WingMon, 23 May 2022 20:36:46 GMT\n",
            "4. Tata Steel Posts 47% Profit Jump on Demand Boom, Announces Stock Split - BloombergTue, 03 May 2022 07:00:00 GMT\n",
            "5. Sensex Ends 38 pts Lower, Nifty Holds 16,200; Tata Steel Crashes 12%; Maruti Up 4% - News18Mon, 23 May 2022 03:48:00 GMT\n",
            "6. India's Tata Steel shuns Russian coal - Financial TimesSun, 01 May 2022 07:00:00 GMT\n",
            "7. Barrier System Market Will Increase Demand In Forecast By 2028 |Tata Steel, Nucor, Lindsay Corporation, Arbus, Avon Barrier Corporation, etc – The Daily Vale - The Daily ValeTue, 24 May 2022 12:39:47 GMT\n",
            "8. Blast at India's Tata Steel coke plant injures three contract workers - Reuters IndiaSat, 07 May 2022 07:00:00 GMT\n",
            "9. Share Market update: Sensex, Nifty end flat; Tata Steel top loser - Business TodayMon, 23 May 2022 09:45:00 GMT\n",
            "10. Mass Plantation at Tata Steel Kalinganagar commemorating 'International Day of Biological Diversity 2022' - Odisha DiaryTue, 24 May 2022 02:17:34 GMT\n",
            "11. FY22 earnings report card: Here are top 10 most profitable companies in India - India Inc report card - Economic TimesSat, 21 May 2022 07:56:00 GMT\n",
            "12. Laminated Steel Market Is Booming Worldwide with Tata steel, Lienchy, Leicong – Carbon Valley Farmer and Miner - Carbon Valley Farmer and MinerTue, 24 May 2022 10:52:43 GMT\n",
            "13. Fitch Upgrades Tata Steel to 'BB+'; Outlook Positive - Fitch RatingsFri, 13 May 2022 07:00:00 GMT\n",
            "14. Tata Steel moves down by 12.53 pc to Rs 1023.60 | Indiablooms - First Portal on Digital News Management - indiabloomsMon, 23 May 2022 11:23:53 GMT\n",
            "15. Tata Steel Acquires 1.30 Cr Ocrps Of Associate Firm Trf | Mint - MintSat, 14 May 2022 07:00:00 GMT\n",
            "16. Tata Steels Europe bet pays off after 15 years and major cost takeout - Business StandardSun, 08 May 2022 07:00:00 GMT\n",
            "17. Tata Steel, Sail, JSW Steel Shares Hit Lower Circuit, Watch This Video For More Details - Zee BusinessMon, 23 May 2022 12:27:01 GMT\n",
            "18. Structural Steel Market Research Report 2022 | Gerdau SA, ArcelorMittal, Tata Steel, Nippon Steel Sumitomo Metal – The Daily Vale - The Daily ValeMon, 23 May 2022 06:08:36 GMT\n",
            "19. Jefferies’ Christopher Wood adds Macrotech to India portfolio but removes Tata Steel - CNBCTV18Fri, 20 May 2022 05:08:00 GMT\n",
            "20. Opening Bell: Tata Steel, JSW Steel and Hindalco Industries help Nifty regain 16,000 - CNBCTV18Fri, 20 May 2022 04:11:00 GMT\n",
            "21. Why is Tata Steel share price Trending in Google Trends on May, 23 2022: Check Latest News on Tata Steel share price Today from Google and - LatestLYMon, 23 May 2022 12:42:37 GMT\n",
            "22. Tata Steel share price forecast: Can it withstand high rates? - Capital.comFri, 13 May 2022 07:00:00 GMT\n",
            "23. Tata Steel slips 10% in 5 days post March quarter results - Business StandardTue, 10 May 2022 07:00:00 GMT\n",
            "24. Tata Steel is in a much better place; we can grow and deleverage at the same time: TV Narendran - Economic TimesWed, 04 May 2022 07:00:00 GMT\n",
            "25. Tata Steel down by 12.53 pc to Rs 1023.60 - United News of IndiaMon, 23 May 2022 10:22:00 GMT\n",
            "26. Tata Steel Mining launches Sparrow Conservation initiative “Love Sparrow” in Sukinda - Odisha DiaryTue, 24 May 2022 10:44:34 GMT\n",
            "27. Ferritic Stainless Steel Market 2022 Report Covers Top Key Players Profiling – Nucor Corporation, Nippon Steel & Sumitomo Metal Corporation, Hebei Iron and Steel Group Company Limited, Tata Steel Group, Riva Group, POSCO – The Daily Vale - The Daily ValeTue, 24 May 2022 06:45:44 GMT\n",
            "28. Steel Market 2021: Current and Future Market Potential for Steel : POSCO, Arcelor Mittal, Nippon Steel & Sumitomo Metal, Hyundai Steel, TATA Steel, Wuhan Steel Group – The Daily Vale - The Daily ValeTue, 24 May 2022 12:39:47 GMT\n",
            "29. Tata Steel to complete NINL acquisition in current quarter: CEO - Economic TimesTue, 03 May 2022 07:00:00 GMT\n",
            "30. Tata Steel Shares Are Axis Securities' Top Stock Pick For The Week | Mint - MintMon, 09 May 2022 07:00:00 GMT\n",
            "31. Sensex falls 106 points, Nifty below 16,250; Tata Steel plunges 7% - Economic TimesTue, 10 May 2022 07:00:00 GMT\n",
            "32. Tata Sons likely to earn record Rs 27,797 crore from its listed firms - Business StandardTue, 24 May 2022 00:40:00 GMT\n",
            "33. Sail, Nalco To Tata Steel: Why Metal Stocks Are Nosediving — Explained | Mint - MintFri, 13 May 2022 07:00:00 GMT\n",
            "34. Pyroxenite Market by 2029 | Tata Steel Ltd., Bharat Mining Company, Foskor (Pty) Ltd. – The Daily Vale - The Daily ValeSat, 21 May 2022 11:30:35 GMT\n",
            "35. Tata Steel Ltd eases for fifth straight session - Business StandardMon, 25 Apr 2022 07:00:00 GMT\n",
            "36. Buy Tata Steel or Vedanta? Wait for 10% correction first: Deven Choksey - Economic TimesTue, 26 Apr 2022 07:00:00 GMT\n",
            "37. Devise contracts to allow price adjustments: Tata Steel's MD - Times of IndiaTue, 26 Apr 2022 07:00:00 GMT\n",
            "38. Tata Steel Jamshedpur again launches ESS, job-for-job scheme - Avenue MailThu, 19 May 2022 16:39:30 GMT\n",
            "39. Electro Zinc Coated Sheet (EZC) Market Size And Forecast | Parker Steel, Nippon Steel And Sumitomo Metal, Salzgitter Group, Tata Steel, Rolled Steel Products, Uptonsteel – The Daily Vale - The Daily ValeTue, 24 May 2022 10:29:00 GMT\n",
            "40. Metal Recycling Market 2021 Growth Prospects by 2028 with Leading Players: European Metal Recycling, DOWA HOLDINGS Co., Ltd, Tata Steel, Baosteel Co., Ltd. – The Daily Vale - The Daily ValeTue, 24 May 2022 11:04:11 GMT\n",
            "41. Sensex, Nifty rise on less-hawkish Fed; Infosys, Tata Steel lead gainers - Economic TimesThu, 05 May 2022 07:00:00 GMT\n",
            "42. Tata Steel, ArcelorMittal-Nippon Steel India unlikely to bid for NMDC unit - The Financial ExpressTue, 26 Apr 2022 07:00:00 GMT\n",
            "43. Helical Submerged Arc Welding (HSAW) Steel Pipes Market Size And Forecast | ArcelorMittal, Nippon Steel And Sumitomo Metal, China Baowu Steel Group, POSCO, Hesteel Group, JFE Steel Corporation, Tata Steel, Nucor Corporation, Hyundai Steel, Shaga - The Daily ValeTue, 24 May 2022 13:00:02 GMT\n",
            "44. Stocks To Watch: Tata Steel, Titan, Future Retail, Spicejet, Kotak Mahindra Bank | Mint - MintWed, 04 May 2022 07:00:00 GMT\n",
            "45. Sensex tanks by 496 points in morning trade; NTPC, Tata Steel, Reliance Industries, Sun Pharma, Power Grid and - Business Insider IndiaWed, 27 Apr 2022 07:00:00 GMT\n",
            "46. Q4FY22 Preview: Tata Steel: Revenues seen at Rs67,712 crore, PAT at Rs9,810 crore - IndiainfolineSat, 30 Apr 2022 07:00:00 GMT\n",
            "47. Tata Steels TV Narendran on why current crisis wont derail growths - Business StandardFri, 29 Apr 2022 07:00:00 GMT\n",
            "48. Hot-rolled Bar Market Size And Forecast | O'Neal Steel, Ovako, ORI Martin spa, Riva Group, Sidenor, Tata Steel, Sandvik Materials Technology, Saarstahl, DEW-STAHL, IMS – SCHMOLZ+BICKENBACH – The Daily Vale - The Daily ValeTue, 24 May 2022 00:12:33 GMT\n",
            "49. Tata Steel’s annual summer sports camp from May 15 - Times of IndiaFri, 06 May 2022 07:00:00 GMT\n",
            "50. Austenitic Steel Market SWOT Analysis, Key Indicators By 2028 |ArcelorMittal, Shagang Group, Tata Steel Ltd, Beijing Jianlong Heavy Industry Group Co Ltd, Shougang Group, etc – The Daily Vale - The Daily ValeMon, 23 May 2022 04:10:23 GMT\n",
            "51. Wednesday's top brokerage calls: Godrej Properties, Britannia, Tata Steel and JSW Energy - CNBCTV18Wed, 04 May 2022 07:00:00 GMT\n",
            "52. Tata Steel Mining bags CSR Leadership Award - Daily PioneerSun, 01 May 2022 07:00:00 GMT\n",
            "53. Comprehensive Report on Insulating Plate Market 2022 | Trends, Growth Demand, Opportunities & Forecast To 2028 |Kingspan, Metecno, Isopan, NCI Building Systems, TATA Steel, etc – The Daily Vale - The Daily ValeMon, 23 May 2022 14:26:24 GMT\n",
            "54. “Will continue to deleverage; Want to bring down debt further”: Narendran, Tata Steel - Times NowFri, 06 May 2022 07:00:00 GMT\n",
            "55. Blood Donation Drive at Tata Steel Kalinganagar; 334 units of blood donated - Odisha DiarySat, 21 May 2022 04:47:18 GMT\n",
            "56. Jamshedpur Mukhi Samaj seeks help from Tata Steel Tubes Division to prevent road mishaps - Avenue MailTue, 17 May 2022 15:54:48 GMT\n",
            "57. Green Mining Market 2021 to 2026: Demand and Global Outlook & Analysis by Top Manufacturers Tata Steel, BHP Billiton, Vale SA, RIO Tinto, Glencore, Anglo American – The Daily Vale - The Daily ValeMon, 23 May 2022 05:03:51 GMT\n",
            "58. Tata Steel Jamshedpur: Non-graduate associates to be promoted after training - Avenue MailThu, 19 May 2022 16:42:35 GMT\n",
            "59. Rainscreen Facades Market Size And Forecast | Cladding Corp, Trespa North America, Centria International, Tata Steel (Kalzip), Kaicer (Lakesmere), Kingspan Insulation PLC, Ash And Lacy Building System Ltd., Celotex Ltd., CGL Facades Co., Proteus – The - The Daily ValeMon, 23 May 2022 23:12:06 GMT\n",
            "60. Building plan violators in Steel City on JNAC radar - Times of IndiaMon, 23 May 2022 17:34:00 GMT\n",
            "61. Rainscreen Cladding Systems Market Size And Forecast | Cladding Corp, Trespa North America, Centria International, Tata Steel, Kaicer, Kingspan Insulation PLC, Ash And Lacy Building System Ltd., Celotex Ltd., CGL Facades Co., Proteus – The Daily Vale - The Daily ValeMon, 23 May 2022 23:12:06 GMT\n",
            "62. Water And Wastewater Pipes Market Size 2022-2029| Key Players – Aliaxis,JM Eagle,Tenaris,Vallourec,Welspun,Georg Fischer,GERDAU,ThyssenKrupp,Atkore International,ISCO Industries,Advanced Drainage System,ArcelorMittal,Tata Steel,Nippon Steel & - The Daily ValeTue, 24 May 2022 00:32:53 GMT\n",
            "63. Tata Steel Jamshedpur plant expansion must, but pollution load on environment a concern: Sanjiv Paul - Avenue MailMon, 02 May 2022 07:00:00 GMT\n",
            "64. Metal Structural Insulation Panels Market 2022 Strategic Analysis, Growth Drivers, Industry Trends, Demand and Future Opportunities till 2028 |Structall Building Systems, Nucor Building, Permatherm, Gor Stal, Tata Steel, etc – The Daily Vale - The Daily ValeMon, 23 May 2022 15:11:49 GMT\n",
            "65. Stock market update: Stocks that hit 52-week lows on NSE in today's trade - Economic TimesMon, 23 May 2022 11:26:00 GMT\n",
            "66. Pyroxenite Market Report Covers Future Trends With Research 2022 to 2029 – Tata Steel Ltd., Bharat Mining Company, Foskor (Pty) Ltd. – The Daily Vale - The Daily ValeTue, 24 May 2022 10:01:34 GMT\n",
            "67. India's Tata Steel to stop doing business with Russia - ReutersWed, 20 Apr 2022 07:00:00 GMT\n",
            "68. What foreign brokers said on Zomato, Tata Motors, Sobha & 7 other stocks - Economic TimesTue, 24 May 2022 04:15:00 GMT\n",
            "69. Sensex soars 1,345pts, Nifty tops 16,250; LIC ends 8% down at Rs 875 on BSE - Business StandardTue, 17 May 2022 10:36:12 GMT\n",
            "70. Carlsen wins the 2022 Tata Steel Chess Tournament for the eighth time - World ChessSat, 29 Jan 2022 08:00:00 GMT\n",
            "71. Railway Rail Market Size 2022 Analysis by 2029 | Key Players – EVRAZ, ArcelorMittal, Tata Steel, NSSMC, Voestalpine – The Daily Vale - The Daily ValeMon, 23 May 2022 20:35:53 GMT\n",
            "72. Prosecutors to Investigate Tata Steel Plant in Dutch Village - U.S. News & World ReportWed, 02 Feb 2022 08:00:00 GMT\n",
            "73. Tata Steel Snaps Up Indebted Mill With $1.6 Billion Bid - BloombergMon, 31 Jan 2022 08:00:00 GMT\n",
            "74. Tata Steel Chess R11: Carlsen Misses Win, Dubov Tests Positive - Chess.comSat, 29 Jan 2022 08:00:00 GMT\n",
            "75. Tata Steel to consider proposal to split equity shares on May 3 - ReutersSun, 17 Apr 2022 07:00:00 GMT\n",
            "76. Carlsen, Caruana Top Field For 2022 Tata Steel Chess Tournament - Chess.comWed, 12 Jan 2022 08:00:00 GMT\n",
            "77. Tata Steel Completes Buy Out Of Sail's Stake In S&t Mining | Mint - MintTue, 12 Apr 2022 07:00:00 GMT\n",
            "78. Tata Steel Eyes Other Nations For Coal Amid Uncertain Russian Supply | Mint - MintSat, 12 Mar 2022 08:00:00 GMT\n",
            "79. Tata Steel stops business with Russia - Deccan HeraldWed, 20 Apr 2022 07:00:00 GMT\n",
            "80. Daniil Dubov out of the Tata Steel Masters - Chess24Fri, 28 Jan 2022 08:00:00 GMT\n",
            "81. Tata Steel to take IJmuiden BF6 off line in 1H2023 - Argus MediaFri, 11 Feb 2022 08:00:00 GMT\n",
            "82. Aronian Beats Erigaisi In Armageddon To Clinch Tata Steel India Blitz - Chess.comSun, 21 Nov 2021 08:00:00 GMT\n",
            "83. Tata Steel increases UK coil prices by £50/t - Argus MediaThu, 10 Feb 2022 08:00:00 GMT\n",
            "84. Tata Steel develops a unique few-layer rGO ﬁlm material - Graphene-InfoWed, 12 Jan 2022 08:00:00 GMT\n",
            "85. China's steel exports likely to fall steadily as it moves toward net-zero goal, says Tata Steel - CNBCFri, 19 Nov 2021 08:00:00 GMT\n",
            "86. Tata Steel chess hit by controversy after Norway’s infamous robber invited as guest in broadcast - The Indian ExpressMon, 17 Jan 2022 08:00:00 GMT\n",
            "87. Field of participants Tata Steel Chess Tournament 2022 complete - ChessBaseTue, 12 Oct 2021 07:00:00 GMT\n",
            "88. Tata Steel Set To Pip Tcs On Profit Metric | Mint - MintMon, 14 Feb 2022 08:00:00 GMT\n",
            "89. Tata Steel Europe’s Connected Planning Journey - ForbesThu, 01 Jul 2021 07:00:00 GMT\n",
            "90. Tata Steel Profit Jumps on Higher Prices Even as Costs Rise - BloombergFri, 04 Feb 2022 08:00:00 GMT\n",
            "91. Tata Steel Sees High Energy Prices In Europe As Key Risk | Mint - MintSat, 13 Nov 2021 08:00:00 GMT\n",
            "92. Tata Steel makes its largest investment of the century in Europe - Foundry-Planet.comThu, 11 Nov 2021 08:00:00 GMT\n",
            "93. Tata Steel revives plans to sell its Thailand business - Economic TimesMon, 15 Nov 2021 08:00:00 GMT\n",
            "94. Output, sales at India's Tata Steel hit highest level - Argus MediaWed, 06 Apr 2022 07:00:00 GMT\n",
            "95. Cost increase to soon hit everyone due to Ukraine crisis: Tata Steel MD - Business StandardSun, 13 Mar 2022 08:00:00 GMT\n",
            "96. Tata Steel extends association with PGTI for 3 more years - The New Indian ExpressSat, 19 Mar 2022 07:00:00 GMT\n",
            "97. Tata Steel records 4% growth in Q3 steel production - Business StandardMon, 10 Jan 2022 08:00:00 GMT\n",
            "98. Tata Steel looks at other markets for coal imports - Economic TimesSat, 12 Mar 2022 08:00:00 GMT\n"
          ]
        }
      ]
    },
    {
      "cell_type": "code",
      "source": [
        "print('Git commit')"
      ],
      "metadata": {
        "id": "uBMr2VPNpFMn",
        "colab": {
          "base_uri": "https://localhost:8080/"
        },
        "outputId": "dcaf9cdb-fa03-4920-a493-0bbde47bfdb9"
      },
      "execution_count": 9,
      "outputs": [
        {
          "output_type": "stream",
          "name": "stdout",
          "text": [
            "Git commit\n"
          ]
        }
      ]
    },
    {
      "cell_type": "code",
      "source": [
        ""
      ],
      "metadata": {
        "id": "59G05GpjQ1CW"
      },
      "execution_count": null,
      "outputs": []
    }
  ]
}